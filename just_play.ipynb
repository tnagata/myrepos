{
  "cells": [
    {
      "cell_type": "markdown",
      "metadata": {
        "id": "view-in-github",
        "colab_type": "text"
      },
      "source": [
        "<a href=\"https://colab.research.google.com/github/tnagata/myrepos/blob/master/just_play.ipynb\" target=\"_parent\"><img src=\"https://colab.research.google.com/assets/colab-badge.svg\" alt=\"Open In Colab\"/></a>"
      ]
    },
    {
      "cell_type": "code",
      "execution_count": 1,
      "metadata": {
        "colab": {
          "base_uri": "https://localhost:8080/"
        },
        "id": "38COzHztZbL3",
        "outputId": "ebeedc3c-1359-41b7-de3d-b6d4670ac338"
      },
      "outputs": [
        {
          "output_type": "stream",
          "name": "stdout",
          "text": [
            "Reading package lists... Done\n",
            "Building dependency tree       \n",
            "Reading state information... Done\n",
            "The following additional packages will be installed:\n",
            "  libstd-rust-1.65 libstd-rust-dev rustc\n",
            "Suggested packages:\n",
            "  cargo-doc llvm-14 lld-14 clang-14\n",
            "The following NEW packages will be installed:\n",
            "  cargo libstd-rust-1.65 libstd-rust-dev rustc\n",
            "0 upgraded, 4 newly installed, 0 to remove and 46 not upgraded.\n",
            "Need to get 85.3 MB of archives.\n",
            "After this operation, 385 MB of additional disk space will be used.\n",
            "Get:1 http://archive.ubuntu.com/ubuntu focal-updates/universe amd64 libstd-rust-1.65 amd64 1.65.0+dfsg0ubuntu1~llvm2-0ubuntu0.20.04 [41.8 MB]\n",
            "Get:2 http://archive.ubuntu.com/ubuntu focal-updates/universe amd64 libstd-rust-dev amd64 1.65.0+dfsg0ubuntu1~llvm2-0ubuntu0.20.04 [36.8 MB]\n",
            "Get:3 http://archive.ubuntu.com/ubuntu focal-updates/universe amd64 rustc amd64 1.65.0+dfsg0ubuntu1~llvm2-0ubuntu0.20.04 [2,967 kB]\n",
            "Get:4 http://archive.ubuntu.com/ubuntu focal-updates/universe amd64 cargo amd64 0.66.0+ds0ubuntu0.libgit2-0ubuntu0.20.04 [3,754 kB]\n",
            "Fetched 85.3 MB in 1s (58.5 MB/s)\n",
            "Selecting previously unselected package libstd-rust-1.65:amd64.\n",
            "(Reading database ... 122541 files and directories currently installed.)\n",
            "Preparing to unpack .../libstd-rust-1.65_1.65.0+dfsg0ubuntu1~llvm2-0ubuntu0.20.04_amd64.deb ...\n",
            "Unpacking libstd-rust-1.65:amd64 (1.65.0+dfsg0ubuntu1~llvm2-0ubuntu0.20.04) ...\n",
            "Selecting previously unselected package libstd-rust-dev:amd64.\n",
            "Preparing to unpack .../libstd-rust-dev_1.65.0+dfsg0ubuntu1~llvm2-0ubuntu0.20.04_amd64.deb ...\n",
            "Unpacking libstd-rust-dev:amd64 (1.65.0+dfsg0ubuntu1~llvm2-0ubuntu0.20.04) ...\n",
            "Selecting previously unselected package rustc.\n",
            "Preparing to unpack .../rustc_1.65.0+dfsg0ubuntu1~llvm2-0ubuntu0.20.04_amd64.deb ...\n",
            "Unpacking rustc (1.65.0+dfsg0ubuntu1~llvm2-0ubuntu0.20.04) ...\n",
            "Selecting previously unselected package cargo.\n",
            "Preparing to unpack .../cargo_0.66.0+ds0ubuntu0.libgit2-0ubuntu0.20.04_amd64.deb ...\n",
            "Unpacking cargo (0.66.0+ds0ubuntu0.libgit2-0ubuntu0.20.04) ...\n",
            "Setting up libstd-rust-1.65:amd64 (1.65.0+dfsg0ubuntu1~llvm2-0ubuntu0.20.04) ...\n",
            "Setting up libstd-rust-dev:amd64 (1.65.0+dfsg0ubuntu1~llvm2-0ubuntu0.20.04) ...\n",
            "Setting up rustc (1.65.0+dfsg0ubuntu1~llvm2-0ubuntu0.20.04) ...\n",
            "Setting up cargo (0.66.0+ds0ubuntu0.libgit2-0ubuntu0.20.04) ...\n",
            "Processing triggers for man-db (2.9.1-1) ...\n",
            "Processing triggers for libc-bin (2.31-0ubuntu9.9) ...\n"
          ]
        }
      ],
      "source": [
        "!apt install cargo"
      ]
    },
    {
      "cell_type": "code",
      "execution_count": 2,
      "metadata": {
        "id": "8NMwYb2xZjjf",
        "colab": {
          "base_uri": "https://localhost:8080/"
        },
        "outputId": "1c4448a3-bae3-4532-f139-556d0129668a"
      },
      "outputs": [
        {
          "output_type": "stream",
          "name": "stdout",
          "text": [
            "Writing main.rs\n"
          ]
        }
      ],
      "source": [
        "%%writefile main.rs\n",
        "fn main() {\n",
        "    println!(\"hello 世界の皆さん\");\n",
        "}\n",
        ""
      ]
    },
    {
      "cell_type": "code",
      "execution_count": 3,
      "metadata": {
        "colab": {
          "base_uri": "https://localhost:8080/"
        },
        "id": "VyOMBgvnZxYZ",
        "outputId": "d50c7056-7484-4af3-9b05-80fae4e0e3d3"
      },
      "outputs": [
        {
          "output_type": "stream",
          "name": "stdout",
          "text": [
            "hello 世界の皆さん\n"
          ]
        }
      ],
      "source": [
        "!rustc main.rs; ./main"
      ]
    },
    {
      "cell_type": "code",
      "execution_count": null,
      "metadata": {
        "id": "3O9i1K-uaA21"
      },
      "outputs": [],
      "source": []
    }
  ],
  "metadata": {
    "colab": {
      "provenance": [],
      "authorship_tag": "ABX9TyO8d9c2Mn4l9ZrfVhqDbdOe",
      "include_colab_link": true
    },
    "kernelspec": {
      "display_name": "Python 3",
      "name": "python3"
    },
    "language_info": {
      "name": "python"
    }
  },
  "nbformat": 4,
  "nbformat_minor": 0
}